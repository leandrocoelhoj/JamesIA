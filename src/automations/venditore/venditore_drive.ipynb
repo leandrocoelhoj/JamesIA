{
 "cells": [
  {
   "cell_type": "code",
   "id": "initial_id",
   "metadata": {
    "collapsed": true,
    "ExecuteTime": {
     "end_time": "2025-08-11T01:47:09.349723Z",
     "start_time": "2025-08-11T01:47:07.991690Z"
    }
   },
   "source": [
    "import io\n",
    "from googleapiclient.discovery import build\n",
    "from googleapiclient.http import MediaIoBaseDownload\n",
    "from google.oauth2 import service_account\n",
    "import pandas as pd\n",
    "import os"
   ],
   "outputs": [],
   "execution_count": 3
  },
  {
   "metadata": {
    "ExecuteTime": {
     "end_time": "2025-08-11T01:50:48.167747Z",
     "start_time": "2025-08-11T01:50:48.162232Z"
    }
   },
   "cell_type": "code",
   "source": [
    "# Pega a pasta do arquivo atual (venditore/)\n",
    "current_dir = os.path.dirname(os.path.abspath('__file__'))\n",
    "\n",
    "# Sobe 2 níveis: venditore -> automations -> src -> JamesIA\n",
    "base_dir = os.path.abspath(os.path.join(current_dir, \"../../..\"))\n",
    "\n",
    "# Monta o caminho até secrets/credenciais.json\n",
    "json_path = os.path.join(base_dir, \"secrets\", \"grand-bridge-465614-h2-af35a1b3a984.json\")"
   ],
   "id": "1bd161a74dec4390",
   "outputs": [],
   "execution_count": 7
  },
  {
   "metadata": {
    "ExecuteTime": {
     "end_time": "2025-08-11T17:47:41.136582Z",
     "start_time": "2025-08-11T17:47:41.031548Z"
    }
   },
   "cell_type": "code",
   "source": [
    "SCOPES = ['https://www.googleapis.com/auth/drive.readonly']\n",
    "creds = service_account.Credentials.from_service_account_file(json_path, scopes=SCOPES)\n",
    "\n",
    "drive = build('drive', 'v3', credentials=creds)"
   ],
   "id": "f91755451c843df0",
   "outputs": [],
   "execution_count": 15
  },
  {
   "metadata": {
    "ExecuteTime": {
     "end_time": "2025-08-11T17:47:44.648179Z",
     "start_time": "2025-08-11T17:47:41.855135Z"
    }
   },
   "cell_type": "code",
   "source": [
    "results = drive.files().list(\n",
    "    pageSize=10,\n",
    "    fields=\"files(id, name, mimeType)\"\n",
    ").execute()"
   ],
   "id": "db6c943dc3cd8b19",
   "outputs": [],
   "execution_count": 16
  },
  {
   "metadata": {
    "ExecuteTime": {
     "end_time": "2025-08-11T17:47:45.412550Z",
     "start_time": "2025-08-11T17:47:45.398272Z"
    }
   },
   "cell_type": "code",
   "source": "results",
   "id": "9fa404aa5642148e",
   "outputs": [
    {
     "data": {
      "text/plain": [
       "{'files': [{'id': '1j-7FGU1WjsGTnoxwqPiiV9aaTtPsMOE5',\n",
       "   'name': 'venditore-teste',\n",
       "   'mimeType': 'application/vnd.google-apps.folder'},\n",
       "  {'id': '1YZx4MYF3AA3XSKrAX0Qj1u40hnuno4O-',\n",
       "   'name': 'custos04-08-2025.csv',\n",
       "   'mimeType': 'text/csv'},\n",
       "  {'id': '11goHCXLdAE6D8FUgbD2OqGVrkXk6OXjt',\n",
       "   'name': 'custos05-08-2025.csv',\n",
       "   'mimeType': 'text/csv'}]}"
      ]
     },
     "execution_count": 17,
     "metadata": {},
     "output_type": "execute_result"
    }
   ],
   "execution_count": 17
  },
  {
   "metadata": {
    "ExecuteTime": {
     "end_time": "2025-08-11T17:51:32.094319Z",
     "start_time": "2025-08-11T17:51:32.089393Z"
    }
   },
   "cell_type": "code",
   "source": "files = results['files']",
   "id": "78384fdeeff91377",
   "outputs": [],
   "execution_count": 24
  },
  {
   "metadata": {
    "ExecuteTime": {
     "end_time": "2025-08-11T17:51:54.686913Z",
     "start_time": "2025-08-11T17:51:54.681991Z"
    }
   },
   "cell_type": "code",
   "source": "from datetime import datetime, timedelta",
   "id": "7647ceca32cee8f4",
   "outputs": [],
   "execution_count": 26
  },
  {
   "metadata": {
    "ExecuteTime": {
     "end_time": "2025-08-11T17:53:34.857982Z",
     "start_time": "2025-08-11T17:53:34.851918Z"
    }
   },
   "cell_type": "code",
   "source": [
    "def get_target_filename(files, target_date):\n",
    "    \"\"\"\n",
    "    files: lista retornada pelo Drive\n",
    "    target_date: datetime.date ou string 'YYYY-MM-DD'\n",
    "    \"\"\"\n",
    "    if isinstance(target_date, str):\n",
    "        target_date = datetime.strptime(target_date, \"%Y-%m-%d\").date()\n",
    "\n",
    "    # Converte para dd-mm-YYYY\n",
    "    date_str = target_date.strftime(\"%d-%m-%Y\")\n",
    "    expected_name = f\"custos{date_str}.csv\"\n",
    "\n",
    "    for f in files:\n",
    "        if f[\"mimeType\"] == \"text/csv\" and f[\"name\"] == expected_name:\n",
    "            return f  # retorna o dict com id, name...\n",
    "    return None"
   ],
   "id": "7ac3512b89efb4a7",
   "outputs": [],
   "execution_count": 28
  },
  {
   "metadata": {
    "ExecuteTime": {
     "end_time": "2025-08-11T17:58:09.829343Z",
     "start_time": "2025-08-11T17:58:09.824622Z"
    }
   },
   "cell_type": "code",
   "source": "file = get_target_filename(files, '2025-08-04')",
   "id": "1bbc837afba4440e",
   "outputs": [],
   "execution_count": 33
  },
  {
   "metadata": {
    "ExecuteTime": {
     "end_time": "2025-08-11T17:57:21.336346Z",
     "start_time": "2025-08-11T17:57:21.329041Z"
    }
   },
   "cell_type": "code",
   "source": "import tempfile",
   "id": "8351e50739ef2451",
   "outputs": [],
   "execution_count": 31
  },
  {
   "metadata": {
    "ExecuteTime": {
     "end_time": "2025-08-11T17:57:23.638422Z",
     "start_time": "2025-08-11T17:57:23.630263Z"
    }
   },
   "cell_type": "code",
   "source": [
    "def download_drive_file_to_temp(drive, file_id: str, suffix=\".csv\") -> str:\n",
    "    \"\"\"Baixa um arquivo do Drive para um arquivo temporário e retorna o caminho.\"\"\"\n",
    "    req = drive.files().get_media(fileId=file_id)\n",
    "    fd, tmp_path = tempfile.mkstemp(suffix=suffix)\n",
    "    os.close(fd)\n",
    "    with open(tmp_path, \"wb\") as f:\n",
    "        downloader = MediaIoBaseDownload(f, req)\n",
    "        done = False\n",
    "        while not done:\n",
    "            _, done = downloader.next_chunk()\n",
    "    return tmp_path"
   ],
   "id": "7395e78c952c0227",
   "outputs": [],
   "execution_count": 32
  },
  {
   "metadata": {
    "ExecuteTime": {
     "end_time": "2025-08-11T17:58:50.438454Z",
     "start_time": "2025-08-11T17:58:49.609946Z"
    }
   },
   "cell_type": "code",
   "source": "tmp_csv_path = download_drive_file_to_temp(drive, file['id'])",
   "id": "8904be3f7ce94d67",
   "outputs": [],
   "execution_count": 35
  },
  {
   "metadata": {},
   "cell_type": "code",
   "outputs": [],
   "execution_count": null,
   "source": "",
   "id": "809f11adac06d08"
  },
  {
   "metadata": {
    "ExecuteTime": {
     "end_time": "2025-08-11T19:47:31.907785Z",
     "start_time": "2025-08-11T19:47:30.554478Z"
    }
   },
   "cell_type": "code",
   "source": [
    "from src.automations.venditore.venditore_csv import parse_csv_custos\n",
    "\n",
    "dados = parse_csv_custos(tmp_csv_path, data_arquivo='2025-08-04')"
   ],
   "id": "7b9df5542ac4eead",
   "outputs": [],
   "execution_count": 36
  },
  {
   "metadata": {
    "ExecuteTime": {
     "end_time": "2025-08-11T19:47:33.993815Z",
     "start_time": "2025-08-11T19:47:33.977685Z"
    }
   },
   "cell_type": "code",
   "source": "dados",
   "id": "e1326bf10a426fbd",
   "outputs": [
    {
     "data": {
      "text/plain": [
       "[{'techprefix': '5006',\n",
       "  'total_chamadas': 110976,\n",
       "  'tempo_total_segundos': 3805548,\n",
       "  'cliente': 'CONTECH',\n",
       "  'media_chamada': '0 min 34 seg',\n",
       "  'media_chamada_segundos': 34,\n",
       "  'valor_total': 2508.09,\n",
       "  'data': '2025-08-04',\n",
       "  'empresa': ''},\n",
       " {'techprefix': '2131001',\n",
       "  'total_chamadas': 16984,\n",
       "  'tempo_total_segundos': 600882,\n",
       "  'cliente': '(CONTECH) RDF',\n",
       "  'media_chamada': '0 min 35 seg',\n",
       "  'media_chamada_segundos': 35,\n",
       "  'valor_total': 400.59,\n",
       "  'data': '2025-08-04',\n",
       "  'empresa': ''},\n",
       " {'techprefix': '127001',\n",
       "  'total_chamadas': 10650,\n",
       "  'tempo_total_segundos': 359196,\n",
       "  'cliente': '(CONTECH) QUALITY ASSESSORIA',\n",
       "  'media_chamada': '0 min 33 seg',\n",
       "  'media_chamada_segundos': 33,\n",
       "  'valor_total': 239.46,\n",
       "  'data': '2025-08-04',\n",
       "  'empresa': ''},\n",
       " {'techprefix': '9004',\n",
       "  'total_chamadas': 12443,\n",
       "  'tempo_total_segundos': 418602,\n",
       "  'cliente': 'CONTECH',\n",
       "  'media_chamada': '0 min 33 seg',\n",
       "  'media_chamada_segundos': 33,\n",
       "  'valor_total': 195.35,\n",
       "  'data': '2025-08-04',\n",
       "  'empresa': ''},\n",
       " {'techprefix': '103601',\n",
       "  'total_chamadas': 6827,\n",
       "  'tempo_total_segundos': 230796,\n",
       "  'cliente': '(CONTECH) ESSENCE MULTISERVICOS',\n",
       "  'media_chamada': '0 min 33 seg',\n",
       "  'media_chamada_segundos': 33,\n",
       "  'valor_total': 142.42,\n",
       "  'data': '2025-08-04',\n",
       "  'empresa': ''},\n",
       " {'techprefix': '6001',\n",
       "  'total_chamadas': 11280,\n",
       "  'tempo_total_segundos': 391668,\n",
       "  'cliente': 'CONTECH',\n",
       "  'media_chamada': '0 min 34 seg',\n",
       "  'media_chamada_segundos': 34,\n",
       "  'valor_total': 182.17,\n",
       "  'data': '2025-08-04',\n",
       "  'empresa': ''},\n",
       " {'techprefix': '195501',\n",
       "  'total_chamadas': 3939,\n",
       "  'tempo_total_segundos': 160362,\n",
       "  'cliente': '(CONTECH) COIN - LUCAS FELIPE MARIANO PINTO',\n",
       "  'media_chamada': '0 min 40 seg',\n",
       "  'media_chamada_segundos': 40,\n",
       "  'valor_total': 106.91,\n",
       "  'data': '2025-08-04',\n",
       "  'empresa': ''},\n",
       " {'techprefix': '106501',\n",
       "  'total_chamadas': 3966,\n",
       "  'tempo_total_segundos': 151434,\n",
       "  'cliente': '(CONTECH) APLEXX CORRESPONDENTES',\n",
       "  'media_chamada': '0 min 38 seg',\n",
       "  'media_chamada_segundos': 38,\n",
       "  'valor_total': 100.96,\n",
       "  'data': '2025-08-04',\n",
       "  'empresa': ''},\n",
       " {'techprefix': '159601',\n",
       "  'total_chamadas': 4351,\n",
       "  'tempo_total_segundos': 161274,\n",
       "  'cliente': '(CONTECH) V.A.L.M SOLUCOES',\n",
       "  'media_chamada': '0 min 37 seg',\n",
       "  'media_chamada_segundos': 37,\n",
       "  'valor_total': 99.88,\n",
       "  'data': '2025-08-04',\n",
       "  'empresa': ''},\n",
       " {'techprefix': '118401',\n",
       "  'total_chamadas': 4036,\n",
       "  'tempo_total_segundos': 133578,\n",
       "  'cliente': '(CONTECH) CORPLAR',\n",
       "  'media_chamada': '0 min 33 seg',\n",
       "  'media_chamada_segundos': 33,\n",
       "  'valor_total': 89.05,\n",
       "  'data': '2025-08-04',\n",
       "  'empresa': ''},\n",
       " {'techprefix': '104402',\n",
       "  'total_chamadas': 3750,\n",
       "  'tempo_total_segundos': 120798,\n",
       "  'cliente': '(CONTECH) IGOR',\n",
       "  'media_chamada': '0 min 32 seg',\n",
       "  'media_chamada_segundos': 32,\n",
       "  'valor_total': 80.53,\n",
       "  'data': '2025-08-04',\n",
       "  'empresa': ''},\n",
       " {'techprefix': '128003',\n",
       "  'total_chamadas': 1566,\n",
       "  'tempo_total_segundos': 54420,\n",
       "  'cliente': '(CONTECH) LUNART',\n",
       "  'media_chamada': '0 min 34 seg',\n",
       "  'media_chamada_segundos': 34,\n",
       "  'valor_total': 36.28,\n",
       "  'data': '2025-08-04',\n",
       "  'empresa': ''},\n",
       " {'techprefix': '6014',\n",
       "  'total_chamadas': 766,\n",
       "  'tempo_total_segundos': 102180,\n",
       "  'cliente': 'CONTECH',\n",
       "  'media_chamada': '2 min 13 seg',\n",
       "  'media_chamada_segundos': 133,\n",
       "  'valor_total': 47.56,\n",
       "  'data': '2025-08-04',\n",
       "  'empresa': ''},\n",
       " {'techprefix': '6003',\n",
       "  'total_chamadas': 1701,\n",
       "  'tempo_total_segundos': 57966,\n",
       "  'cliente': 'CONTECH',\n",
       "  'media_chamada': '0 min 34 seg',\n",
       "  'media_chamada_segundos': 34,\n",
       "  'valor_total': 27.01,\n",
       "  'data': '2025-08-04',\n",
       "  'empresa': ''},\n",
       " {'techprefix': '116001',\n",
       "  'total_chamadas': 757,\n",
       "  'tempo_total_segundos': 26022,\n",
       "  'cliente': '(CONTECH) ASSIS E MOLLERKE ASSESSORIA DE COBRANCAS',\n",
       "  'media_chamada': '0 min 34 seg',\n",
       "  'media_chamada_segundos': 34,\n",
       "  'valor_total': 17.35,\n",
       "  'data': '2025-08-04',\n",
       "  'empresa': ''},\n",
       " {'techprefix': '5005',\n",
       "  'total_chamadas': 1336,\n",
       "  'tempo_total_segundos': 42708,\n",
       "  'cliente': 'CONTECH',\n",
       "  'media_chamada': '0 min 31 seg',\n",
       "  'media_chamada_segundos': 31,\n",
       "  'valor_total': 19.93,\n",
       "  'data': '2025-08-04',\n",
       "  'empresa': ''},\n",
       " {'techprefix': '9006',\n",
       "  'total_chamadas': 1173,\n",
       "  'tempo_total_segundos': 36978,\n",
       "  'cliente': 'CONTECH',\n",
       "  'media_chamada': '0 min 31 seg',\n",
       "  'media_chamada_segundos': 31,\n",
       "  'valor_total': 17.26,\n",
       "  'data': '2025-08-04',\n",
       "  'empresa': ''},\n",
       " {'techprefix': '177701',\n",
       "  'total_chamadas': 622,\n",
       "  'tempo_total_segundos': 20628,\n",
       "  'cliente': '(CONTECH) BRASIL AUTO PECAS COMERCIO LTDA',\n",
       "  'media_chamada': '0 min 33 seg',\n",
       "  'media_chamada_segundos': 33,\n",
       "  'valor_total': 18.91,\n",
       "  'data': '2025-08-04',\n",
       "  'empresa': ''},\n",
       " {'techprefix': '221101',\n",
       "  'total_chamadas': 451,\n",
       "  'tempo_total_segundos': 19644,\n",
       "  'cliente': '(CONTECH) MONEY SOLUTIONS',\n",
       "  'media_chamada': '0 min 43 seg',\n",
       "  'media_chamada_segundos': 43,\n",
       "  'valor_total': 13.1,\n",
       "  'data': '2025-08-04',\n",
       "  'empresa': ''},\n",
       " {'techprefix': '206000',\n",
       "  'total_chamadas': 477,\n",
       "  'tempo_total_segundos': 38022,\n",
       "  'cliente': '(CONTECH) LIDER SOLUCOES',\n",
       "  'media_chamada': '1 min 19 seg',\n",
       "  'media_chamada_segundos': 79,\n",
       "  'valor_total': 19.01,\n",
       "  'data': '2025-08-04',\n",
       "  'empresa': ''},\n",
       " {'techprefix': '118701',\n",
       "  'total_chamadas': 304,\n",
       "  'tempo_total_segundos': 13458,\n",
       "  'cliente': '(CONTECH) SAGITARIUS',\n",
       "  'media_chamada': '0 min 44 seg',\n",
       "  'media_chamada_segundos': 44,\n",
       "  'valor_total': 8.97,\n",
       "  'data': '2025-08-04',\n",
       "  'empresa': ''},\n",
       " {'techprefix': '129501',\n",
       "  'total_chamadas': 218,\n",
       "  'tempo_total_segundos': 6810,\n",
       "  'cliente': '(CONTECH) THAMIRIS LEONCIO ARAUJO',\n",
       "  'media_chamada': '0 min 31 seg',\n",
       "  'media_chamada_segundos': 31,\n",
       "  'valor_total': 4.54,\n",
       "  'data': '2025-08-04',\n",
       "  'empresa': ''},\n",
       " {'techprefix': '6011',\n",
       "  'total_chamadas': 134,\n",
       "  'tempo_total_segundos': 10506,\n",
       "  'cliente': 'CONTECH',\n",
       "  'media_chamada': '1 min 18 seg',\n",
       "  'media_chamada_segundos': 78,\n",
       "  'valor_total': 4.9,\n",
       "  'data': '2025-08-04',\n",
       "  'empresa': ''},\n",
       " {'techprefix': '221201',\n",
       "  'total_chamadas': 58,\n",
       "  'tempo_total_segundos': 1782,\n",
       "  'cliente': '(CONTECH) GD SOLUCOES FINANCEIRAS (FACILE)',\n",
       "  'media_chamada': '0 min 30 seg',\n",
       "  'media_chamada_segundos': 30,\n",
       "  'valor_total': 1.19,\n",
       "  'data': '2025-08-04',\n",
       "  'empresa': ''},\n",
       " {'techprefix': '6012',\n",
       "  'total_chamadas': 53,\n",
       "  'tempo_total_segundos': 4080,\n",
       "  'cliente': 'CONTECH',\n",
       "  'media_chamada': '1 min 16 seg',\n",
       "  'media_chamada_segundos': 76,\n",
       "  'valor_total': 1.9,\n",
       "  'data': '2025-08-04',\n",
       "  'empresa': ''},\n",
       " {'techprefix': '146901',\n",
       "  'total_chamadas': 35,\n",
       "  'tempo_total_segundos': 1134,\n",
       "  'cliente': '(CONTECH) SUPERMED',\n",
       "  'media_chamada': '0 min 32 seg',\n",
       "  'media_chamada_segundos': 32,\n",
       "  'valor_total': 0.76,\n",
       "  'data': '2025-08-04',\n",
       "  'empresa': ''},\n",
       " {'techprefix': '208201',\n",
       "  'total_chamadas': 16,\n",
       "  'tempo_total_segundos': 480,\n",
       "  'cliente': '(CONTECH) ITELINK',\n",
       "  'media_chamada': '0 min 30 seg',\n",
       "  'media_chamada_segundos': 30,\n",
       "  'valor_total': 0.32,\n",
       "  'data': '2025-08-04',\n",
       "  'empresa': ''},\n",
       " {'techprefix': '6013',\n",
       "  'total_chamadas': 4,\n",
       "  'tempo_total_segundos': 120,\n",
       "  'cliente': 'CONTECH',\n",
       "  'media_chamada': '0 min 30 seg',\n",
       "  'media_chamada_segundos': 30,\n",
       "  'valor_total': 0.06,\n",
       "  'data': '2025-08-04',\n",
       "  'empresa': ''},\n",
       " {'techprefix': '206002',\n",
       "  'total_chamadas': 51820,\n",
       "  'tempo_total_segundos': 836730,\n",
       "  'cliente': '(CONTECH) LIDER SOLUCOES',\n",
       "  'media_chamada': '0 min 16 seg',\n",
       "  'media_chamada_segundos': 16,\n",
       "  'valor_total': 418.29,\n",
       "  'data': '2025-08-04',\n",
       "  'empresa': ''}]"
      ]
     },
     "execution_count": 37,
     "metadata": {},
     "output_type": "execute_result"
    }
   ],
   "execution_count": 37
  }
 ],
 "metadata": {
  "kernelspec": {
   "display_name": "Python 3",
   "language": "python",
   "name": "python3"
  },
  "language_info": {
   "codemirror_mode": {
    "name": "ipython",
    "version": 2
   },
   "file_extension": ".py",
   "mimetype": "text/x-python",
   "name": "python",
   "nbconvert_exporter": "python",
   "pygments_lexer": "ipython2",
   "version": "2.7.6"
  }
 },
 "nbformat": 4,
 "nbformat_minor": 5
}
